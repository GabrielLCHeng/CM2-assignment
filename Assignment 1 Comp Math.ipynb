{
 "cells": [
  {
   "cell_type": "code",
   "execution_count": 1,
   "metadata": {},
   "outputs": [],
   "source": [
    "# Student: Gabriel Lim Chiaw Heng\n",
    "# Matric No: WID180016 / 17173679"
   ]
  },
  {
   "cell_type": "code",
   "execution_count": 2,
   "metadata": {},
   "outputs": [
    {
     "name": "stdout",
     "output_type": "stream",
     "text": [
      "Q1\n"
     ]
    },
    {
     "data": {
      "image/png": "[encoded data removed]",
      "text/plain": [
       "<Figure size 432x288 with 1 Axes>"
      ]
     },
     "metadata": {
      "needs_background": "light"
     },
     "output_type": "display_data"
    }
   ],
   "source": [
    "# Q1\n",
    "print(\"Q1\")\n",
    "import matplotlib.pyplot as plt\n",
    "plt.plot([-6, -5, -4, -3, -2, -1, 0, 1, 2, 3, 4,5, 6], [36, 25, 16, 9, 4, 1, 0, 1, 4, 9, 16, 25, 36])\n",
    "plt.xlabel('X-Axis')\n",
    "plt.ylabel('Y-Axis')\n",
    "plt.axis([-10, 10, 0, 40])\n",
    "plt.show()"
   ]
  },
  {
   "cell_type": "code",
   "execution_count": null,
   "metadata": {},
   "outputs": [],
   "source": []
  },
  {
   "cell_type": "code",
   "execution_count": 3,
   "metadata": {},
   "outputs": [
    {
     "name": "stdout",
     "output_type": "stream",
     "text": [
      "Q2\n",
      "X-Axis = [-6, -5, -4, -3, -2, -1, 0, 1, 2, 3, 4, 5, 6]\n",
      "Y-Axis = [36, 25, 16, 9, 4, 1, 0, 1, 4, 9, 16, 25, 36]\n"
     ]
    }
   ],
   "source": [
    "# Q2\n",
    "print(\"Q2\")\n",
    "# X_Axis = list(range(-6, 7))\n",
    "# Y_Axis = [36, 25, 16, 9, 4, 1, 0, 1, 4, 9, 16, 25, 36]\n",
    "# y = x**2\n",
    "x_axis = []\n",
    "y_axis = []\n",
    "for i in range(-6, 7):\n",
    "    x_axis.append(i)\n",
    "    y_axis.append(i*i)\n",
    "print(\"X-Axis = \" + str(x_axis))\n",
    "print(\"Y-Axis = \" + str(y_axis))"
   ]
  },
  {
   "cell_type": "code",
   "execution_count": 4,
   "metadata": {},
   "outputs": [
    {
     "name": "stdout",
     "output_type": "stream",
     "text": [
      "Q3.a)\n",
      "a) F(x) = sqrt(x) - 1/(sqrt(x))\n"
     ]
    },
    {
     "data": {
      "text/latex": [
       "$\\displaystyle \\frac{x - 1}{\\sqrt{x}}$"
      ],
      "text/plain": [
       "(x - 1)/sqrt(x)"
      ]
     },
     "execution_count": 4,
     "metadata": {},
     "output_type": "execute_result"
    }
   ],
   "source": [
    "# Q3\n",
    "from sympy import *\n",
    "print(\"Q3.a)\")\n",
    "x = Symbol('x')\n",
    "print(\"a) F(x) = sqrt(x) - 1/(sqrt(x))\")\n",
    "simplify(sqrt(x) - 1/(sqrt(x)))"
   ]
  },
  {
   "cell_type": "code",
   "execution_count": 5,
   "metadata": {},
   "outputs": [
    {
     "name": "stdout",
     "output_type": "stream",
     "text": [
      "Q3.b)\n",
      "b) G(x) = sqrt(x) * (x**2 - 1)\n"
     ]
    },
    {
     "data": {
      "text/latex": [
       "$\\displaystyle \\sqrt{x} \\left(x^{2} - 1\\right)$"
      ],
      "text/plain": [
       "sqrt(x)*(x**2 - 1)"
      ]
     },
     "execution_count": 5,
     "metadata": {},
     "output_type": "execute_result"
    }
   ],
   "source": [
    "# Q3\n",
    "print(\"Q3.b)\")\n",
    "print(\"b) G(x) = sqrt(x) * (x**2 - 1)\")\n",
    "(simplify(sqrt(x) * (x**2 - 1)))"
   ]
  },
  {
   "cell_type": "code",
   "execution_count": 6,
   "metadata": {},
   "outputs": [
    {
     "name": "stdout",
     "output_type": "stream",
     "text": [
      "Q3.c)\n",
      "c) H(x) = (x**+9)**9\n"
     ]
    },
    {
     "data": {
      "text/latex": [
       "$\\displaystyle x^{81}$"
      ],
      "text/plain": [
       "x**81"
      ]
     },
     "execution_count": 6,
     "metadata": {},
     "output_type": "execute_result"
    }
   ],
   "source": [
    "# Q3\n",
    "print(\"Q3.c)\")\n",
    "print(\"c) H(x) = (x**+9)**9\")\n",
    "(simplify((x**+9)**9))"
   ]
  },
  {
   "cell_type": "code",
   "execution_count": null,
   "metadata": {},
   "outputs": [],
   "source": []
  },
  {
   "cell_type": "code",
   "execution_count": 7,
   "metadata": {},
   "outputs": [
    {
     "name": "stdout",
     "output_type": "stream",
     "text": [
      "Q4\n",
      "F'(x) = 1/(2*sqrt(x)) + 1/(2*x**(3/2))\n",
      "G'(x) = 2*x**(3/2) + (x**2 - 1)/(2*sqrt(x))\n",
      "H'(x) = 81*x**80\n"
     ]
    }
   ],
   "source": [
    "# Q4\n",
    "print(\"Q4\")\n",
    "print(\"F'(x) = \" + str(diff(sqrt(x) - 1/(sqrt(x)))))\n",
    "print(\"G'(x) = \" + str(diff(sqrt(x) * (x**2 - 1))))\n",
    "print(\"H'(x) = \" + str(diff((x**+9)**9)))"
   ]
  },
  {
   "cell_type": "code",
   "execution_count": null,
   "metadata": {},
   "outputs": [],
   "source": []
  },
  {
   "cell_type": "code",
   "execution_count": 8,
   "metadata": {},
   "outputs": [
    {
     "name": "stdout",
     "output_type": "stream",
     "text": [
      "Q5.a\n",
      "a)y = sin(x)\n",
      "\n",
      "\\\\\\\\when x increments 0.5 each time:\n",
      "x: [-2*pi, -1.5*pi, -1.0*pi, -0.5*pi, 0, 0.5*pi, 1.0*pi, 1.5*pi, 2.0*pi]\n",
      "y: [0, 1, 0, -1, 0, 1, 0, -1, 0]\n",
      "\n",
      "\\\\\\\\when x increments 0.25 each time:\n",
      "x: [-2*pi, -1.75*pi, -1.5*pi, -1.25*pi, -1.0*pi, -0.75*pi, -0.5*pi, -0.25*pi, 0, 0.25*pi, 0.5*pi, 0.75*pi, 1.0*pi, 1.25*pi, 1.5*pi, 1.75*pi, 2.0*pi]\n",
      "y: [0, 0.7071, 1, 0.7071, 0, -0.7071, -1, -0.7071, 0, 0.7071, 1, 0.7071, 0, -0.7071, -1, -0.7071, 0]\n",
      "\n",
      "\\\\\\\\when x increments 0.125 each time:\n",
      "x: [-2*pi, -1.875*pi, -1.75*pi, -1.625*pi, -1.5*pi, -1.375*pi, -1.25*pi, -1.125*pi, -1.0*pi, -0.875*pi, -0.75*pi, -0.625*pi, -0.5*pi, -0.375*pi, -0.25*pi, -0.125*pi, 0, 0.125*pi, 0.25*pi, 0.375*pi, 0.5*pi, 0.625*pi, 0.75*pi, 0.875*pi, 1.0*pi, 1.125*pi, 1.25*pi, 1.375*pi, 1.5*pi, 1.625*pi, 1.75*pi, 1.875*pi, 2.0*pi]\n",
      "y: [0, 0.3827, 0.7071, 0.9239, 1, 0.9239, 0.7071, 0.3827, 0, -0.3827, -0.7071, -0.9239, -1, -0.9239, -0.7071, -0.3827, 0, 0.3827, 0.7071, 0.9239, 1, 0.9239, 0.7071, 0.3827, 0, -0.3827, -0.7071, -0.9239, -1, -0.9239, -0.7071, -0.3827, 0]\n"
     ]
    }
   ],
   "source": [
    "# Q5\n",
    "print(\"Q5.a\")\n",
    "# range from -2pi to 2 pi\n",
    "ct = -2\n",
    "x0_5a = []\n",
    "x0_25a = []\n",
    "x0_125a = []\n",
    "y0_5a = []\n",
    "y0_25a = []\n",
    "y0_125a = []\n",
    "\n",
    "while(ct <= 2):\n",
    "    x0_5a.append(ct*pi)\n",
    "    y0_5a.append(round(sin(x0_5a[-1]), 4))\n",
    "    ct += 0.5\n",
    "\n",
    "ct = -2\n",
    "while(ct <= 2):\n",
    "    x0_25a.append(ct*pi)\n",
    "    y0_25a.append(round(sin(x0_25a[-1]), 4))\n",
    "    ct += 0.25\n",
    "\n",
    "ct = -2\n",
    "while(ct <= 2):\n",
    "    x0_125a.append(ct*pi)\n",
    "    y0_125a.append(round(sin(x0_125a[-1]), 4))\n",
    "    ct += 0.125\n",
    "\n",
    "print(\"a)y = sin(x)\")\n",
    "print(\"\\n\\\\\\\\\\\\\\when x increments 0.5 each time:\")\n",
    "print(\"x: \" + str(x0_5a))\n",
    "print(\"y: \" + str(y0_5a))\n",
    "print(\"\\n\\\\\\\\\\\\\\when x increments 0.25 each time:\")\n",
    "print(\"x: \" + str(x0_25a))\n",
    "print(\"y: \" + str(y0_25a))\n",
    "print(\"\\n\\\\\\\\\\\\\\when x increments 0.125 each time:\")\n",
    "print(\"x: \" + str(x0_125a))\n",
    "print(\"y: \" + str(y0_125a))"
   ]
  },
  {
   "cell_type": "code",
   "execution_count": 9,
   "metadata": {},
   "outputs": [
    {
     "name": "stdout",
     "output_type": "stream",
     "text": [
      "Q5.b\n",
      "b)y = cos(x)\n",
      "\n",
      "\\\\\\\\when x increments 0.5 each time:\n",
      "x: [-2*pi, -1.5*pi, -1.0*pi, -0.5*pi, 0, 0.5*pi, 1.0*pi, 1.5*pi, 2.0*pi]\n",
      "y: [1, 0, -1, 0, 1, 0, -1, 0, 1]\n",
      "\n",
      "\\\\\\\\when x increments 0.25 each time:\n",
      "x: [-2*pi, -1.75*pi, -1.5*pi, -1.25*pi, -1.0*pi, -0.75*pi, -0.5*pi, -0.25*pi, 0, 0.25*pi, 0.5*pi, 0.75*pi, 1.0*pi, 1.25*pi, 1.5*pi, 1.75*pi, 2.0*pi]\n",
      "y: [1, 0.7071, 0, -0.7071, -1, -0.7071, 0, 0.7071, 1, 0.7071, 0, -0.7071, -1, -0.7071, 0, 0.7071, 1]\n",
      "\n",
      "\\\\\\\\when x increments 0.125 each time:\n",
      "x: [-2*pi, -1.875*pi, -1.75*pi, -1.625*pi, -1.5*pi, -1.375*pi, -1.25*pi, -1.125*pi, -1.0*pi, -0.875*pi, -0.75*pi, -0.625*pi, -0.5*pi, -0.375*pi, -0.25*pi, -0.125*pi, 0, 0.125*pi, 0.25*pi, 0.375*pi, 0.5*pi, 0.625*pi, 0.75*pi, 0.875*pi, 1.0*pi, 1.125*pi, 1.25*pi, 1.375*pi, 1.5*pi, 1.625*pi, 1.75*pi, 1.875*pi, 2.0*pi]\n",
      "y: [1, 0.9239, 0.7071, 0.3827, 0, -0.3827, -0.7071, -0.9239, -1, -0.9239, -0.7071, -0.3827, 0, 0.3827, 0.7071, 0.9239, 1, 0.9239, 0.7071, 0.3827, 0, -0.3827, -0.7071, -0.9239, -1, -0.9239, -0.7071, -0.3827, 0, 0.3827, 0.7071, 0.9239, 1]\n"
     ]
    }
   ],
   "source": [
    "# Q5\n",
    "print(\"Q5.b\")\n",
    "# range from -2pi to 2 pi\n",
    "ct = -2\n",
    "x0_5b = []\n",
    "x0_25b = []\n",
    "x0_125b = []\n",
    "y0_5b = []\n",
    "y0_25b = []\n",
    "y0_125b = []\n",
    "\n",
    "while(ct <= 2):\n",
    "    x0_5b.append(ct*pi)\n",
    "    y0_5b.append(round(cos(x0_5b[-1]), 4))\n",
    "    ct += 0.5\n",
    "\n",
    "ct = -2\n",
    "while(ct <= 2):\n",
    "    x0_25b.append(ct*pi)\n",
    "    y0_25b.append(round(cos(x0_25b[-1]), 4))\n",
    "    ct += 0.25\n",
    "\n",
    "ct = -2\n",
    "while(ct <= 2):\n",
    "    x0_125b.append(ct*pi)\n",
    "    y0_125b.append(round(cos(x0_125b[-1]), 4))\n",
    "    ct += 0.125\n",
    "\n",
    "print(\"b)y = cos(x)\")\n",
    "print(\"\\n\\\\\\\\\\\\\\when x increments 0.5 each time:\")\n",
    "print(\"x: \" + str(x0_5b))\n",
    "print(\"y: \" + str(y0_5b))\n",
    "print(\"\\n\\\\\\\\\\\\\\when x increments 0.25 each time:\")\n",
    "print(\"x: \" + str(x0_25b))\n",
    "print(\"y: \" + str(y0_25b))\n",
    "print(\"\\n\\\\\\\\\\\\\\when x increments 0.125 each time:\")\n",
    "print(\"x: \" + str(x0_125b))\n",
    "print(\"y: \" + str(y0_125b))"
   ]
  },
  {
   "cell_type": "code",
   "execution_count": null,
   "metadata": {},
   "outputs": [],
   "source": []
  },
  {
   "cell_type": "code",
   "execution_count": 10,
   "metadata": {},
   "outputs": [
    {
     "name": "stdout",
     "output_type": "stream",
     "text": [
      "Q6\n",
      "Graph for Q5.a) y = sin(x) as x increments 0.25 each time\n"
     ]
    },
    {
     "data": {
      "image/png": "[encoded data removed]",
      "text/plain": [
       "<Figure size 432x288 with 1 Axes>"
      ]
     },
     "metadata": {
      "needs_background": "light"
     },
     "output_type": "display_data"
    },
    {
     "name": "stdout",
     "output_type": "stream",
     "text": [
      "\n",
      "Graph for Q5.b) y = cos(x) as x increments 0.25 each time\n"
     ]
    },
    {
     "data": {
      "image/png": "[encoded data removed]",
      "text/plain": [
       "<Figure size 432x288 with 1 Axes>"
      ]
     },
     "metadata": {
      "needs_background": "light"
     },
     "output_type": "display_data"
    }
   ],
   "source": [
    "# Q6\n",
    "print(\"Q6\")\n",
    "print(\"Graph for Q5.a) y = sin(x) as x increments 0.25 each time\")\n",
    "plt.xlabel('x (in π)')\n",
    "plt.ylabel('sin(x)')\n",
    "x1 = x0_5a\n",
    "x2 = x0_25a\n",
    "x3 = x0_125a\n",
    "y1 = y0_5a\n",
    "y2 = y0_25a\n",
    "y3 = y0_125a\n",
    "plt.plot(x1, y1, label='y1')\n",
    "plt.plot(x2, y2, label='y2')\n",
    "plt.plot(x3, y3, label='y3')\n",
    "plt.axis([-7, 7, -1, 1])\n",
    "plt.legend()\n",
    "plt.show()\n",
    "\n",
    "\n",
    "print(\"\\nGraph for Q5.b) y = cos(x) as x increments 0.25 each time\")\n",
    "plt.xlabel('x (in π)')\n",
    "plt.ylabel('cos(x)')\n",
    "x4 = x0_5b\n",
    "x5 = x0_25b\n",
    "x6 = x0_125b\n",
    "y4 = y0_5b\n",
    "y5 = y0_25b\n",
    "y6 = y0_125b\n",
    "plt.plot(x4, y4, label='y4')\n",
    "plt.plot(x5, y5, label='y5')\n",
    "plt.plot(x6, y6, label='y6')\n",
    "plt.axis([-7, 7, -1, 1])\n",
    "plt.legend()\n",
    "plt.show()"
   ]
  },
  {
   "cell_type": "code",
   "execution_count": null,
   "metadata": {},
   "outputs": [],
   "source": []
  },
  {
   "cell_type": "code",
   "execution_count": 11,
   "metadata": {},
   "outputs": [
    {
     "name": "stdout",
     "output_type": "stream",
     "text": [
      "Q7\n",
      "g(x) = x*(e**x - x - 1) at x = 4\n"
     ]
    },
    {
     "data": {
      "text/latex": [
       "$\\displaystyle x \\left(- x + e^{x} - 1\\right)$"
      ],
      "text/plain": [
       "x*(-x + exp(x) - 1)"
      ]
     },
     "execution_count": 11,
     "metadata": {},
     "output_type": "execute_result"
    }
   ],
   "source": [
    "# Q7\n",
    "print(\"Q7\")\n",
    "print(\"g(x) = x*(e**x - x - 1) at x = 4\")\n",
    "x = Symbol('x')\n",
    "expr = x*(exp(x) - x - 1)\n",
    "expr"
   ]
  },
  {
   "cell_type": "code",
   "execution_count": 12,
   "metadata": {},
   "outputs": [
    {
     "data": {
      "text/latex": [
       "$\\displaystyle -20 + 4 e^{4}$"
      ],
      "text/plain": [
       "-20 + 4*exp(4)"
      ]
     },
     "execution_count": 12,
     "metadata": {},
     "output_type": "execute_result"
    }
   ],
   "source": [
    "expr.subs(x, 4)"
   ]
  },
  {
   "cell_type": "code",
   "execution_count": null,
   "metadata": {},
   "outputs": [],
   "source": []
  },
  {
   "cell_type": "code",
   "execution_count": 13,
   "metadata": {},
   "outputs": [
    {
     "name": "stdout",
     "output_type": "stream",
     "text": [
      "Q8\n",
      "Differentiate g(x) from Qsn 7 and find the value of g’(x) at x = 4.\n",
      "Result of differentiation: \n"
     ]
    },
    {
     "data": {
      "text/latex": [
       "$\\displaystyle x \\left(e^{x} - 1\\right) - x + e^{x} - 1$"
      ],
      "text/plain": [
       "x*(exp(x) - 1) - x + exp(x) - 1"
      ]
     },
     "execution_count": 13,
     "metadata": {},
     "output_type": "execute_result"
    }
   ],
   "source": [
    "# Q8\n",
    "print(\"Q8\")\n",
    "print(\"Differentiate g(x) from Qsn 7 and find the value of g’(x) at x = 4.\")\n",
    "dg_x = diff(x*(exp(x) - x - 1), x, 1)\n",
    "print(\"Result of differentiation: \")\n",
    "dg_x"
   ]
  },
  {
   "cell_type": "code",
   "execution_count": 14,
   "metadata": {},
   "outputs": [
    {
     "data": {
      "text/latex": [
       "$\\displaystyle -9 + 5 e^{4}$"
      ],
      "text/plain": [
       "-9 + 5*exp(4)"
      ]
     },
     "execution_count": 14,
     "metadata": {},
     "output_type": "execute_result"
    }
   ],
   "source": [
    "dg_x.subs(x, 4)"
   ]
  },
  {
   "cell_type": "code",
   "execution_count": null,
   "metadata": {},
   "outputs": [],
   "source": []
  },
  {
   "cell_type": "code",
   "execution_count": 15,
   "metadata": {},
   "outputs": [
    {
     "name": "stdout",
     "output_type": "stream",
     "text": [
      "Q9.a) ∫2x + 3 dx\n"
     ]
    },
    {
     "data": {
      "text/latex": [
       "$\\displaystyle x^{2} + 3 x$"
      ],
      "text/plain": [
       "x**2 + 3*x"
      ]
     },
     "execution_count": 15,
     "metadata": {},
     "output_type": "execute_result"
    }
   ],
   "source": [
    "# Q9\n",
    "print(\"Q9.a) ∫2x + 3 dx\")\n",
    "integrate(2*x + 3, x)"
   ]
  },
  {
   "cell_type": "code",
   "execution_count": 16,
   "metadata": {},
   "outputs": [
    {
     "name": "stdout",
     "output_type": "stream",
     "text": [
      "Q9.b) ∫1/sqrt(x+1) dx\n"
     ]
    },
    {
     "data": {
      "text/latex": [
       "$\\displaystyle 2 \\sqrt{x + 1}$"
      ],
      "text/plain": [
       "2*sqrt(x + 1)"
      ]
     },
     "execution_count": 16,
     "metadata": {},
     "output_type": "execute_result"
    }
   ],
   "source": [
    "print(\"Q9.b) ∫1/sqrt(x+1) dx\")\n",
    "integrate(1/sqrt(x+1),x)"
   ]
  },
  {
   "cell_type": "code",
   "execution_count": 17,
   "metadata": {},
   "outputs": [
    {
     "name": "stdout",
     "output_type": "stream",
     "text": [
      "Q9.c) ∫(sin(x))**2 dx\n"
     ]
    },
    {
     "data": {
      "text/latex": [
       "$\\displaystyle \\frac{x}{2} - \\frac{\\sin{\\left(x \\right)} \\cos{\\left(x \\right)}}{2}$"
      ],
      "text/plain": [
       "x/2 - sin(x)*cos(x)/2"
      ]
     },
     "execution_count": 17,
     "metadata": {},
     "output_type": "execute_result"
    }
   ],
   "source": [
    "print(\"Q9.c) ∫(sin(x))**2 dx\")\n",
    "integrate(sin(x)**2)"
   ]
  },
  {
   "cell_type": "code",
   "execution_count": 18,
   "metadata": {},
   "outputs": [
    {
     "name": "stdout",
     "output_type": "stream",
     "text": [
      "Q9.d) ∫x**3 - 3sin(x)cos(x) dx within x = 0 and x = π/2\n"
     ]
    },
    {
     "data": {
      "text/latex": [
       "$\\displaystyle - \\frac{3}{2} + \\frac{\\pi^{4}}{64}$"
      ],
      "text/plain": [
       "-3/2 + pi**4/64"
      ]
     },
     "execution_count": 18,
     "metadata": {},
     "output_type": "execute_result"
    }
   ],
   "source": [
    "print(\"Q9.d) ∫x**3 - 3sin(x)cos(x) dx within x = 0 and x = π/2\")\n",
    "integrate(x**3 - 3*sin(x)*cos(x), (x, 0, pi/2))"
   ]
  }
 ],
 "metadata": {
  "kernelspec": {
   "display_name": "Python 3",
   "language": "python",
   "name": "python3"
  },
  "language_info": {
   "codemirror_mode": {
    "name": "ipython",
    "version": 3
   },
   "file_extension": ".py",
   "mimetype": "text/x-python",
   "name": "python",
   "nbconvert_exporter": "python",
   "pygments_lexer": "ipython3",
   "version": "3.7.6"
  }
 },
 "nbformat": 4,
 "nbformat_minor": 4
}
