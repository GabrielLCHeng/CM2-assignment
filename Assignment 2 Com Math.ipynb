{
 "cells": [
  {
   "cell_type": "code",
   "execution_count": 17,
   "metadata": {
    "pycharm": {
     "is_executing": false
    }
   },
   "outputs": [],
   "source": [
    "from numpy import *\n",
    "import numpy.linalg as linalg\n",
    "import sympy as sp\n",
    "from sympy import Matrix, solve_linear_system, Eq"
   ]
  },
  {
   "cell_type": "code",
   "execution_count": 18,
   "metadata": {
    "pycharm": {
     "is_executing": false
    }
   },
   "outputs": [
    {
     "name": "stdout",
     "text": [
      "A\n [[ 2 -4]\n [ 1  3]]\nB\n [[ 4 -1]\n [ 2  0]]\nC\n [[4]\n [3]]\nD\n [[3]\n [1]]\nE\n [[-3  2  0]\n [ 1 -1 -2]]\n"
     ],
     "output_type": "stream"
    }
   ],
   "source": [
    "# --------------------------Q1\n",
    "A = mat('2 -4; 1 3')\n",
    "B = mat('4 -1; 2 0')\n",
    "C = mat('4; 3')\n",
    "D = mat('3; 1')\n",
    "E = mat('-3 2 0; 1 -1 -2')\n",
    "print(\"A\\n\", A)\n",
    "print(\"B\\n\", B)\n",
    "print(\"C\\n\", C)\n",
    "print(\"D\\n\", D)\n",
    "print(\"E\\n\", E)"
   ]
  },
  {
   "cell_type": "code",
   "execution_count": null,
   "metadata": {
    "pycharm": {
     "is_executing": false
    }
   },
   "outputs": [],
   "source": [
    "# --------------------------Q2 (use matrices in Q1)\n",
    "print(\"i) A+B: \\n\", A+B, \"\\n\")\n",
    "print(\"ii) 3B: \\n\", 3*B, \"\\n\")\n",
    "print(\"iii) AC: \\n\", A*C, \"\\n\")\n",
    "print(\"iv) (AC)^T: \\n\", (A*C).T, \"\\n\")\n",
    "print(\"v) AE: \\n\", A*E, \"\\n\")\n",
    "print(\"vi) AD: \\n\", A*D, \"\\n\")\n",
    "print(\"vii) B + D: \\n\", B+D, \"\\n\")\n",
    "print(\"viii) B - 2A: \\n\", B - 2*A, \"\\n\")"
   ]
  },
  {
   "cell_type": "code",
   "execution_count": null,
   "metadata": {
    "pycharm": {
     "is_executing": false
    }
   },
   "outputs": [],
   "source": [
    "# --------------------------Q3\n",
    "mA = mat('1 -1 1; 0 -2 1; -2 -3 0')\n",
    "mA = Matrix(mA)\n",
    "print(\"Determinant of matrix mA = \", mA.det())\n",
    "\n",
    "mB = Matrix(([1, 4, 7], [2, 5, 8], [3, 6, 9]))\n",
    "mB = Matrix(mB)\n",
    "print(\"Determinant of matrix mB = \", mB.det())\n",
    "\n",
    "mC = mat('3 -3 1; -2 2 -1; -4 5 -2')\n",
    "mC = Matrix(mC)\n",
    "print(\"Determinant of matrix mC = \", mC.det())\n",
    "\n",
    "mD = mat('1 2 3; 0 1 4; 5 6 0')\n",
    "mD = Matrix(mD)\n",
    "print(\"Determinant of matrix mD = \", mD.det())\n",
    "\n",
    "mE = mat('24 18 5; 20 -15 -4; -5 4 1')\n",
    "mE = Matrix(mE)\n",
    "print(\"Determinant of matrix mE = \", mE.det())\n",
    "\n",
    "mF = mat('-1 3 -3; 0 -6 5; -5 -3 1')\n",
    "mF = Matrix(mF)\n",
    "print(\"Determinant of matrix mF = \", mF.det())\n",
    "\n",
    "mG = mat('2 1 1; 3 2 1; 2 1 2')\n",
    "mG = Matrix(mG)\n",
    "print(\"Determinant of matrix mG = \", mG.det())\n",
    "\n",
    "mH = mat('9 8 7; 6 5 14; 3 2 1')\n",
    "mH = Matrix(mH)\n",
    "print(\"Determinant of matrix mH = \", mH.det())"
   ]
  },
  {
   "cell_type": "code",
   "execution_count": null,
   "metadata": {
    "pycharm": {
     "is_executing": false
    }
   },
   "outputs": [],
   "source": [
    "# --------------------------Q4 (use matrices in Q3)\n",
    "mA_inv = mat(mA.inv())\n",
    "print(\"Inverse of mA = \\n\", mA_inv, \"\\n\")\n",
    "# mB_inv = mat(mB.inv())       # singular matrix\n",
    "# print(mB_inv)\n",
    "print(\"No inverse matrix for mB as it is singular matrix(determinant of mB is 0)\\n\")\n",
    "mC_inv = mat(mC.inv())\n",
    "print(\"Inverse of mC = \\n\", mC_inv, \"\\n\")\n",
    "mD_inv = mat(mD.inv())\n",
    "print(\"Inverse of mD = \\n\", mD_inv, \"\\n\")\n",
    "mE_inv = mat(mE.inv())\n",
    "print(\"Inverse of mE = \\n\", mE_inv, \"\\n\")\n",
    "mF_inv = mat(mF.inv())\n",
    "print(\"Inverse of mF = \\n\", mF_inv, \"\\n\")\n",
    "mG_inv = mat(mG.inv())\n",
    "print(\"Inverse of mG = \\n\", mG_inv, \"\\n\")\n",
    "mH_inv = mat(mH.inv())\n",
    "print(\"Inverse of mH = \\n\", mH_inv, \"\\n\")"
   ]
  },
  {
   "cell_type": "code",
   "execution_count": null,
   "metadata": {
    "pycharm": {
     "is_executing": false
    }
   },
   "outputs": [],
   "source": [
    "# --------------------------Q5\n",
    "# i)\n",
    "eq1 = sp.Function('eq1')\n",
    "eq2 = sp.Function('eq2')\n",
    "\n",
    "x, y = sp.symbols('x y')\n",
    "\n",
    "eq1 = Eq(2*x+3*y, 11)\n",
    "eq2 = Eq(-3*x-4*y, -13)\n",
    "display(eq1)\n",
    "display(eq2)\n",
    "\n",
    "row1 = [2, 3, 11]\n",
    "row2 = [-3, -4, -13]\n",
    "\n",
    "system = Matrix((row1, row2))\n",
    "display(system)\n",
    "\n",
    "solve_linear_system(system, x, y)"
   ]
  },
  {
   "cell_type": "code",
   "execution_count": null,
   "metadata": {
    "pycharm": {
     "is_executing": false
    }
   },
   "outputs": [],
   "source": [
    "# --------------------------Q5\n",
    "# ii)\n",
    "eq1 = sp.Function('eq1')\n",
    "eq2 = sp.Function('eq2')\n",
    "eq3 = sp.Function('eq3')\n",
    "\n",
    "x, y, z = sp.symbols('x y z')\n",
    "\n",
    "eq1 = Eq(x+y+z, 7)\n",
    "eq2 = Eq(2*x-2*y+3*z, 14)\n",
    "eq3 = Eq(-x-y+z, 1)\n",
    "display(eq1)\n",
    "display(eq2)\n",
    "display(eq3)\n",
    "\n",
    "row1 = [1, 1, 1, 7]\n",
    "row2 = [2, -2, 3, 14]\n",
    "row3 = [-1, -1, 1, 1]\n",
    "\n",
    "system = Matrix((row1, row2, row3))\n",
    "display(system)\n",
    "\n",
    "solve_linear_system(system, x, y, z)"
   ]
  },
  {
   "cell_type": "code",
   "execution_count": null,
   "metadata": {
    "pycharm": {
     "is_executing": false
    }
   },
   "outputs": [],
   "source": [
    "# --------------------------Q5\n",
    "# iii)\n",
    "eq1 = sp.Function('eq1')\n",
    "eq2 = sp.Function('eq2')\n",
    "eq3 = sp.Function('eq3')\n",
    "\n",
    "x, y, z = sp.symbols('x y z')\n",
    "\n",
    "eq1 = Eq(8*x-7*y+10*z, 15)\n",
    "eq2 = Eq(2*x+3*y+8*z, 7)\n",
    "eq3 = Eq(4*x-5*y+2*z, 9)\n",
    "display(eq1)\n",
    "display(eq2)\n",
    "display(eq3)\n",
    "\n",
    "row1 = [8, -7, 10, 15]\n",
    "row2 = [2, 3, 8, 7]\n",
    "row3 = [4, -5, 2, 9]\n",
    "\n",
    "system = Matrix((row1, row2, row3))\n",
    "display(system)\n",
    "\n",
    "solve_linear_system(system, x, y, z)"
   ]
  },
  {
   "cell_type": "code",
   "execution_count": null,
   "metadata": {
    "pycharm": {
     "is_executing": false
    }
   },
   "outputs": [],
   "source": [
    "# --------------------------Q5\n",
    "# iv)\n",
    "eq1 = sp.Function('eq1')\n",
    "eq2 = sp.Function('eq2')\n",
    "eq3 = sp.Function('eq3')\n",
    "\n",
    "x, y, z = sp.symbols('x y z')\n",
    "\n",
    "eq1 = Eq(x+y+z, 6)\n",
    "eq2 = Eq(2*y+5*z, -4)\n",
    "eq3 = Eq(2*x+5*y-z, 27)\n",
    "display(eq1)\n",
    "display(eq2)\n",
    "display(eq3)\n",
    "\n",
    "row1 = [1, 1, 1, 6]\n",
    "row2 = [0, 2, 5, -1]\n",
    "row3 = [2, 5, -1, 27]\n",
    "\n",
    "system = Matrix((row1, row2, row3))\n",
    "display(system)\n",
    "\n",
    "solve_linear_system(system, x, y, z)"
   ]
  },
  {
   "cell_type": "code",
   "execution_count": null,
   "metadata": {
    "pycharm": {
     "is_executing": false
    }
   },
   "outputs": [],
   "source": [
    "# --------------------------Q5\n",
    "# v)\n",
    "eq1 = sp.Function('eq1')\n",
    "eq2 = sp.Function('eq2')\n",
    "eq3 = sp.Function('eq3')\n",
    "\n",
    "x, y, z= sp.symbols('x y z')\n",
    "\n",
    "eq1 = Eq(2*x-y+6*z, 10)\n",
    "eq2 = Eq(-3*x+4*y-5*z, 11)\n",
    "eq3 = Eq(8*x-7*y-9*z, 12)\n",
    "display(eq1)\n",
    "display(eq2)\n",
    "display(eq3)\n",
    "\n",
    "row1 = [2, -1, 6, 10]\n",
    "row2 = [-3, 4, -5, 11]\n",
    "row3 = [8, -7, -9, 12]\n",
    "\n",
    "system = Matrix((row1, row2, row3))\n",
    "display(system)\n",
    "\n",
    "solve_linear_system(system, x, y, z)"
   ]
  },
  {
   "cell_type": "code",
   "execution_count": null,
   "metadata": {
    "pycharm": {
     "is_executing": false
    }
   },
   "outputs": [],
   "source": [
    "# --------------------------Q5\n",
    "# vi)\n",
    "eq1 = sp.Function('eq1')\n",
    "eq2 = sp.Function('eq2')\n",
    "eq3 = sp.Function('eq3')\n",
    "\n",
    "x, y, z= sp.symbols('x y z')\n",
    "\n",
    "eq1 = Eq(2*x-3*y, 4)\n",
    "eq2 = Eq(-x+4*y-z, 11)\n",
    "eq3 = Eq(6*x-5*y+2*z, -3)\n",
    "display(eq1)\n",
    "display(eq2)\n",
    "display(eq3)\n",
    "\n",
    "row1 = [2, -3, 0, 4]\n",
    "row2 = [-1, 4, -1, 11]\n",
    "row3 = [6, -5, 2, -3]\n",
    "\n",
    "system = Matrix((row1, row2, row3))\n",
    "display(system)\n",
    "\n",
    "solve_linear_system(system, x, y, z)"
   ]
  },
  {
   "cell_type": "code",
   "execution_count": null,
   "metadata": {
    "pycharm": {
     "is_executing": false
    }
   },
   "outputs": [],
   "source": [
    "# --------------------------Q6\n",
    "m1 = mat('0 1; -2 -3')\n",
    "print(\"m1 = \\n\", m1)\n",
    "eig_val1, eig_vec1 = linalg.eig(m1)\n",
    "print(\"\\neigen values: \")\n",
    "for i in range(eig_val1.__len__()):\n",
    "    print(eig_val1[i], end=\" \")             # round(eig_val1[i]) if imprecision occur\n",
    "\n",
    "print(\"\\n\")\n",
    "m2 = mat('4 -2 1; 2 0 1; 2 -2 3')\n",
    "print(\"m2 = \\n\", m2)\n",
    "eig_val2, eig_vec2 = linalg.eig(m2)\n",
    "print(\"\\neigen values: \")\n",
    "for i in range(eig_val2.__len__()):\n",
    "    print(round(eig_val2[i]), end=\" \")      # round(eig_val1[i]) if imprecision occur\n",
    "\n",
    "print(\"\\n\")\n",
    "m3 = mat('4 7 1; 0 -3 8; 0 0 2')\n",
    "print(\"m3 = \\n\", m3)\n",
    "eig_val3, eig_vec3 = linalg.eig(m3)\n",
    "print(\"\\neigen values: \")\n",
    "for i in range(eig_val3.__len__()):\n",
    "    print(eig_val3[i], end=\" \")             # round(eig_val3[i]) if imprecision occur"
   ]
  },
  {
   "cell_type": "code",
   "execution_count": null,
   "metadata": {
    "pycharm": {
     "is_executing": false
    }
   },
   "outputs": [],
   "source": [
    "# --------------------------Q7\n",
    "S = mat('4.0 2.0 0.6;'\n",
    "        '4.2 2.1 0.59;'\n",
    "        '3.9 2.0 0.58;'\n",
    "        '4.3 2.1 0.62;'\n",
    "        '4.1 2.2 0.63')\n",
    "\n",
    "print(\"Matrix S =\\n\", S)\n",
    "# calculate the mean of each column\n",
    "colMean = mean(S.T, axis=1)\n",
    "M = colMean.T\n",
    "print(\"\\nMean of each column:\\n\", M)\n",
    "# center columns by subtracting colum means\n",
    "deviationScoreMatrix = S - M\n",
    "print(\"\\nDeviation Score Matrix(Center columns):\\n\", deviationScoreMatrix)\n",
    "# calculate covariance matrix of centered matrix\n",
    "covS = cov(deviationScoreMatrix.T)\n",
    "print(\"\\nCovariance matrix:\\n\", covS)\n",
    "# eigendecomposition of covariance matrix\n",
    "eigVal, eigVec = linalg.eig(covS)\n",
    "print(\"\\nEigenvalues:\\n\", eigVal)\n",
    "print(\"\\nFeature vector U:\\n\", eigVec)\n",
    "for i in range(eigVec.__len__()):\n",
    "    print(\"\\nVector\",i+1, \"when eigenvalue =\", eigVal[i], \":\\n\", (eigVec[:, i]))\n",
    "\n",
    "# project data\n",
    "P = eigVec[:, 0].T.dot(deviationScoreMatrix.T)\n",
    "print(\"\\nProject data (1st Principal Component of the raw data):\\n\", P.T)"
   ]
  },
  {
   "cell_type": "code",
   "execution_count": null,
   "metadata": {
    "pycharm": {
     "is_executing": false
    }
   },
   "outputs": [],
   "source": [
    "row1 = [2, -1, -4]\n",
    "row2 = [3, -1, -2]\n",
    "system = Matrix((row1, row2))\n",
    "display(system)"
   ]
  },
  {
   "cell_type": "code",
   "execution_count": null,
   "metadata": {
    "pycharm": {
     "is_executing": false
    }
   },
   "outputs": [],
   "source": [
    "eq1 = sp.Function('eq1')\n",
    "eq2 = sp.Function('eq2')\n",
    "\n",
    "x, y = sp.symbols('x y')\n",
    "\n",
    "eq1 = Eq(2*x+3*y, 11)\n",
    "eq2 = Eq(-3*x-4*y, -13)\n",
    "display(eq1)\n",
    "display(eq2)\n",
    "\n",
    "row1 = [2, 3, 11]\n",
    "row2 = [-3, -4, -13]\n",
    "\n",
    "system = Matrix((row1, row2))\n",
    "display(system)\n",
    "\n",
    "solve_linear_system(system, x, y)"
   ]
  },
  {
   "cell_type": "code",
   "execution_count": null,
   "metadata": {
    "pycharm": {
     "is_executing": false
    }
   },
   "outputs": [],
   "source": [
    "# Lab2Q7 code from lecturer\n",
    "from numpy import mean, cov, double, cumsum, dot, linalg, array, ndim\n",
    "from pylab import plot, subplot, axis, stem, show, figure\n",
    "\n",
    "def princomp(A):\n",
    "    M = (A - mean(A.T, axis=1)).T\n",
    "    [latent, coeff] = linalg.eig(cov(M))\n",
    "    score = dot(coeff.T, M)\n",
    "    return coeff, score, latent\n",
    "\n",
    "S = array([[4.0, 2.0, 0.6], [4.2, 2.1, 0.59], [3.9, 2.0, 0.58],\n",
    "           [4.3, 2.1, 0.62], [4.1, 2.2, 0.63]])\n",
    "coeff, score, latent = princomp(S.T)\n",
    "figure()\n",
    "subplot(121)\n",
    "m = mean(S, axis=1)\n",
    "plot([0, -coeff[0,0]*2]+m[0], [0, -coeff[0,1]*2]+m[1], '--k')\n",
    "plot([0, coeff[1,0]*2]+m[0], [0, coeff[1,1]*2]+m[1], '--k')\n",
    "plot(S[0,:], S[1,:], '*g')\n",
    "axis('equal')\n",
    "show()"
   ]
  }
 ],
 "metadata": {
  "kernelspec": {
   "name": "pycharm-589d0a41",
   "language": "python",
   "display_name": "PyCharm (assignment 2)"
  },
  "language_info": {
   "codemirror_mode": {
    "name": "ipython",
    "version": 3
   },
   "file_extension": ".py",
   "mimetype": "text/x-python",
   "name": "python",
   "nbconvert_exporter": "python",
   "pygments_lexer": "ipython3",
   "version": "3.7.7"
  },
  "pycharm": {
   "stem_cell": {
    "cell_type": "raw",
    "source": [],
    "metadata": {
     "collapsed": false
    }
   }
  }
 },
 "nbformat": 4,
 "nbformat_minor": 4
}